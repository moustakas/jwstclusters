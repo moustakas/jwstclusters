{
 "cells": [
  {
   "cell_type": "markdown",
   "metadata": {},
   "source": [
    "# Derive the JWST/NIRSpec fluxing vector\n",
    "\n",
    "Divide the input and output spectra to get the conversion from e/s to erg/s/cm2/A."
   ]
  },
  {
   "cell_type": "code",
   "execution_count": 17,
   "metadata": {
    "collapsed": true
   },
   "outputs": [],
   "source": [
    "import os\n",
    "import numpy as np\n",
    "import matplotlib.pyplot as plt\n",
    "\n",
    "from astropy.table import Table"
   ]
  },
  {
   "cell_type": "code",
   "execution_count": 16,
   "metadata": {
    "collapsed": true
   },
   "outputs": [],
   "source": [
    "%matplotlib inline"
   ]
  },
  {
   "cell_type": "code",
   "execution_count": 3,
   "metadata": {
    "collapsed": true
   },
   "outputs": [],
   "source": [
    "jwstdir = os.path.join( os.getenv('IM_PROJECTS_DIR'), 'jwstclusters' )"
   ]
  },
  {
   "cell_type": "code",
   "execution_count": 26,
   "metadata": {},
   "outputs": [
    {
     "data": {
      "image/png": "[encoded data removed]",
      "text/plain": [
       "<matplotlib.figure.Figure at 0x11619c4e0>"
      ]
     },
     "metadata": {},
     "output_type": "display_data"
    }
   ],
   "source": [
    "galvec = []\n",
    "for suffix in ('00', '01'):\n",
    "    inwave, influx = np.loadtxt( os.path.join(jwstdir, 'galaxyspec_{}.txt'.format(suffix)), unpack=True)\n",
    "\n",
    "    tt = Table.read( os.path.join(jwstdir, 'gal{}'.format(suffix), 'lineplot', 'lineplot_extracted_flux.fits') )\n",
    "    \n",
    "    plt.plot(tt['WAVELENGTH'], tt['extracted_flux'])\n",
    "\n",
    "    #plt.plot(tt['WAVELENGTH'], tt['extracted_flux'] / np.interp(tt['WAVELENGTH'], inwave, influx), alpha=0.5)\n",
    "    #plt.xlim(0.5, 0.9)\n",
    "    "
   ]
  },
  {
   "cell_type": "code",
   "execution_count": null,
   "metadata": {
    "collapsed": true
   },
   "outputs": [],
   "source": [
    "# Properties to check: Stellar Mass, Age, Metallicity\n",
    "\n",
    "# Six models:\n",
    "#   tau=0, Z=Zsun, z=1.5\n",
    "#   tau=0, Z=Zsun, z=2.5\n",
    "#   tau=3, Z=Zsun, z=1.5\n",
    "#   tau=3, Z=Zsun, z=2.5\n",
    "#   tau=0, Z=0.2Zsun, z=1.5\n",
    "#   tau=3, Z=0.2Zsun, z=1.5\n",
    "\n",
    "# Figures:\n",
    "#  2-panel with input photometry and SED and maximum likelihood\n",
    "#  triangle plot\n",
    "\n",
    "# [8/5/17, 10:20:57 AM] Anthony H Gonzalez: Properties to check: Stellar Mass, Age, Metallicity\n",
    "# [8/5/17, 10:23:00 AM] Anthony H Gonzalez: Filters: z<2   F2100W, F444W, F277W, F150W, F090W\n",
    "# [8/5/17, 10:23:19 AM] Anthony H Gonzalez: z>2: F2550W, F444W, F277W, F150W, F090W\n",
    "# [8/5/17, 10:24:48 AM] Anthony H Gonzalez: Adam had calculated for 1200S SNR=6 at L below 4000A break, For F150W, F277W, F444W the SNR is very high (20 at L*+3 in 2 min), For MIRI, baseline SNR=7 for L.\n",
    "# [8/5/17, 10:25:36 AM] Anthony H Gonzalez: …actually, I went back for NIRCam and we set it to SNR=5 at M*+2"
   ]
  },
  {
   "cell_type": "markdown",
   "metadata": {},
   "source": [
    "#### Check that the S/N varies with sqrt(mass)."
   ]
  },
  {
   "cell_type": "code",
   "execution_count": 33,
   "metadata": {},
   "outputs": [
    {
     "data": {
      "text/plain": [
       "[<matplotlib.lines.Line2D at 0x11616d940>]"
      ]
     },
     "execution_count": 33,
     "metadata": {},
     "output_type": "execute_result"
    },
    {
     "data": {
      "image/png": "[encoded data removed]",
      "text/plain": [
       "<matplotlib.figure.Figure at 0x112e2ca58>"
      ]
     },
     "metadata": {},
     "output_type": "display_data"
    }
   ],
   "source": [
    "mass11 = Table.read( os.path.join(jwstdir, 'gal00', 'lineplot', 'lineplot_sn.fits') )\n",
    "mass10 = Table.read( os.path.join(jwstdir, 'gal01', 'lineplot', 'lineplot_sn.fits') )\n",
    "plt.plot(mass10['WAVELENGTH'], mass11['sn'] / mass10['sn'])"
   ]
  },
  {
   "cell_type": "code",
   "execution_count": 34,
   "metadata": {},
   "outputs": [
    {
     "data": {
      "text/plain": [
       "3.1622776601683795"
      ]
     },
     "execution_count": 34,
     "metadata": {},
     "output_type": "execute_result"
    }
   ],
   "source": [
    "np.sqrt(10)"
   ]
  },
  {
   "cell_type": "code",
   "execution_count": null,
   "metadata": {
    "collapsed": true
   },
   "outputs": [],
   "source": []
  }
 ],
 "metadata": {
  "kernelspec": {
   "display_name": "Python 3",
   "language": "python",
   "name": "python3"
  },
  "language_info": {
   "codemirror_mode": {
    "name": "ipython",
    "version": 3
   },
   "file_extension": ".py",
   "mimetype": "text/x-python",
   "name": "python",
   "nbconvert_exporter": "python",
   "pygments_lexer": "ipython3",
   "version": "3.6.2"
  }
 },
 "nbformat": 4,
 "nbformat_minor": 2
}

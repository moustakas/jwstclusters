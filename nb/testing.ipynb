{
 "cells": [
  {
   "cell_type": "code",
   "execution_count": null,
   "metadata": {
    "collapsed": true
   },
   "outputs": [],
   "source": [
    "def load_sps(resolution, resolution_wave, zred):\n",
    "    \"\"\"Read the SSPs into a CSPSpecBasis object.\n",
    "    \n",
    "    Also smooth all the models to the instrumental resolution of the \n",
    "    \n",
    "    \"\"\"\n",
    "    \n",
    "    t0 = time.time()\n",
    "    print('Initializing CSPSpecBasis...')\n",
    "    sps = CSPSpecBasis(zcontinuous=1, compute_vega_mags=False, vactoair_flag=False)\n",
    "    print('...took {:.1f} seconds.'.format(time.time() - t0)) \n",
    "    \n",
    "    sps.csp.params['smooth_lsf'] = True\n",
    "    sps.csp.set_lsf(wave, delta_v)\n",
    "\n",
    "\n",
    "    restwave = resolution_wave / (1 + zred)\n",
    "    delta_v = 2.998e5 * resolution / restwave\n",
    "    \n",
    "def get_lsf(spec, miles_fwhm_aa=2.54, zred=0.0, **extras):\n",
    "    \"\"\"This method takes a spec file and returns the quadrature difference\n",
    "    between the instrumental dispersion and the MILES dispersion, in km/s, as a\n",
    "    function of wavelength\n",
    "    \"\"\"\n",
    "    lightspeed = 2.998e5  # km/s\n",
    "    # Get the SDSS instrumental resolution for this plate/mjd/fiber\n",
    "    wave_obs = 10**spec['loglam']  # observed frame wavelength\n",
    "    # This is the instrumental velocity resolution in the observed frame\n",
    "    sigma_v = np.log(10) * lightspeed * 1e-4 * spec['wdisp']\n",
    "    # filter out some places where sdss reports zero dispersion\n",
    "    good = sigma_v > 0\n",
    "    wave_obs, sigma_v = wave_obs[good], sigma_v[good]\n",
    "    # Get the miles velocity resolution function at the corresponding\n",
    "    # *rest-frame* wavelength\n",
    "    wave_rest = wave_obs / (1 + zred)\n",
    "    sigma_v_miles = lightspeed * miles_fwhm_aa / 2.355 / wave_rest\n",
    "\n",
    "    # Get the quadrature difference\n",
    "    # (Zero and negative values are skipped by FSPS)\n",
    "    dsv = np.sqrt(np.clip(sigma_v**2 - sigma_v_miles**2, 0, np.inf))\n",
    "    # Restrict to regions where MILES is used\n",
    "    good = (wave_rest > 3525.0) & (wave_rest < 7500)\n",
    "\n",
    "    # return the broadening of the rest-frame library spectra required to match\n",
    "    # the obserrved frame instrumental lsf\n",
    "    return wave_rest[good], dsv[good]\n",
    "    \n",
    "    \n",
    "    \n",
    "    sps.ssp.params['smooth_lsf'] = True\n",
    "    sps.ssp.set_lsf(restwave, delta_v)\n",
    "    \n",
    "    return sps"
   ]
  }
 ],
 "metadata": {
  "kernelspec": {
   "display_name": "Python 3",
   "language": "python",
   "name": "python3"
  },
  "language_info": {
   "codemirror_mode": {
    "name": "ipython",
    "version": 3
   },
   "file_extension": ".py",
   "mimetype": "text/x-python",
   "name": "python",
   "nbconvert_exporter": "python",
   "pygments_lexer": "ipython3",
   "version": "3.6.2"
  }
 },
 "nbformat": 4,
 "nbformat_minor": 2
}

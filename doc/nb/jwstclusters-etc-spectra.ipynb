{
 "cells": [
  {
   "cell_type": "markdown",
   "metadata": {},
   "source": [
    "# JWST-ERS Clusters\n",
    "\n",
    "The goal of this notebook is to build a handful of \"truth\" spectra that we can simulate using the [JWST Exposure Time Calculator](https://jwst.etc.stsci.edu)."
   ]
  },
  {
   "cell_type": "code",
   "execution_count": 1,
   "metadata": {
    "collapsed": true
   },
   "outputs": [],
   "source": [
    "import os\n",
    "import time\n",
    "\n",
    "import numpy as np\n",
    "import matplotlib.pyplot as plt\n",
    "\n",
    "import astropy.units as u\n",
    "from astropy.cosmology import FlatLambdaCDM\n",
    "from astropy.table import Table, Column\n",
    "from astropy.io import fits\n",
    "\n",
    "from prospect.sources import CSPSpecBasis"
   ]
  },
  {
   "cell_type": "code",
   "execution_count": 2,
   "metadata": {
    "collapsed": true
   },
   "outputs": [],
   "source": [
    "%matplotlib inline"
   ]
  },
  {
   "cell_type": "code",
   "execution_count": 3,
   "metadata": {
    "collapsed": true
   },
   "outputs": [],
   "source": [
    "cosmo = FlatLambdaCDM(H0=70 * u.km / u.s / u.Mpc, Om0=0.3)"
   ]
  },
  {
   "cell_type": "markdown",
   "metadata": {},
   "source": [
    "### Initialize the SSPs."
   ]
  },
  {
   "cell_type": "code",
   "execution_count": 4,
   "metadata": {},
   "outputs": [
    {
     "name": "stdout",
     "output_type": "stream",
     "text": [
      "Initializing CSPSpecBasis...\n",
      "...took 10.9 seconds.\n"
     ]
    }
   ],
   "source": [
    "t0 = time.time()\n",
    "print('Initializing CSPSpecBasis...')\n",
    "sps = CSPSpecBasis(zcontinuous=1, compute_vega_mags=False, vactoair_flag=False)\n",
    "print('...took {:.1f} seconds.'.format(time.time() - t0)) "
   ]
  },
  {
   "cell_type": "markdown",
   "metadata": {},
   "source": [
    "### Define the sample and physical properties of the \"galaxies\" to simulate."
   ]
  },
  {
   "cell_type": "code",
   "execution_count": 5,
   "metadata": {
    "collapsed": true
   },
   "outputs": [],
   "source": [
    "nspec = 2\n",
    "npix = len(sps.csp.wavelengths)\n",
    "jwstdir = os.path.join( os.getenv('IM_PROJECTS_DIR'), 'jwstclusters' )"
   ]
  },
  {
   "cell_type": "code",
   "execution_count": 6,
   "metadata": {
    "collapsed": true
   },
   "outputs": [],
   "source": [
    "cat = Table()\n",
    "cat.add_column(Column(name='WAVELENGTH', shape=(npix,), length=nspec, \n",
    "                      dtype='f4', unit=u.micron))\n",
    "cat.add_column(Column(name='FLUX', shape=(npix,), length=nspec, dtype='f4', unit=u.mJy))\n",
    "cat.add_column(Column(name='ID', length=nspec, dtype='i4'))\n",
    "cat.add_column(Column(name='ZRED', length=nspec, dtype='f4'))  # observed redshift\n",
    "cat.add_column(Column(name='ZFORM', length=nspec, dtype='f4')) # formation redshift\n",
    "cat.add_column(Column(name='LOGMASS', length=nspec, dtype='f4', unit=u.solMass))\n",
    "cat.add_column(Column(name='LOGZSOL', length=nspec, dtype='f4'))\n",
    "cat.add_column(Column(name='TAU', length=nspec, dtype='f4', unit=u.Gyr))\n",
    "cat.add_column(Column(name='TAGE', length=nspec, dtype='f4', unit=u.Gyr))"
   ]
  },
  {
   "cell_type": "code",
   "execution_count": 7,
   "metadata": {},
   "outputs": [
    {
     "data": {
      "text/html": [
       "&lt;Table length=2&gt;\n",
       "<table id=\"table4720684000\" class=\"table-striped table-bordered table-condensed\">\n",
       "<thead><tr><th>WAVELENGTH [5994]</th><th>FLUX [5994]</th><th>ID</th><th>ZRED</th><th>ZFORM</th><th>LOGMASS</th><th>LOGZSOL</th><th>TAU</th><th>TAGE</th></tr></thead>\n",
       "<thead><tr><th>micron</th><th>mJy</th><th></th><th></th><th></th><th>solMass</th><th></th><th>Gyr</th><th>Gyr</th></tr></thead>\n",
       "<thead><tr><th>float32</th><th>float32</th><th>int64</th><th>float32</th><th>float32</th><th>float32</th><th>float32</th><th>float32</th><th>float32</th></tr></thead>\n",
       "<tr><td>0.0 .. 0.0</td><td>0.0 .. 0.0</td><td>0</td><td>1.5</td><td>5.0</td><td>11.0</td><td>0.176091</td><td>0.1</td><td>3.04597</td></tr>\n",
       "<tr><td>0.0 .. 0.0</td><td>0.0 .. 0.0</td><td>1</td><td>1.5</td><td>5.0</td><td>10.0</td><td>-0.30103</td><td>0.1</td><td>3.04597</td></tr>\n",
       "</table>"
      ],
      "text/plain": [
       "<Table length=2>\n",
       "WAVELENGTH [5994] FLUX [5994]   ID    ZRED  ... LOGMASS LOGZSOL    TAU     TAGE \n",
       "      micron          mJy                   ... solMass            Gyr     Gyr  \n",
       "     float32        float32   int64 float32 ... float32 float32  float32 float32\n",
       "----------------- ----------- ----- ------- ... ------- -------- ------- -------\n",
       "       0.0 .. 0.0  0.0 .. 0.0     0     1.5 ...    11.0 0.176091     0.1 3.04597\n",
       "       0.0 .. 0.0  0.0 .. 0.0     1     1.5 ...    10.0 -0.30103     0.1 3.04597"
      ]
     },
     "execution_count": 7,
     "metadata": {},
     "output_type": "execute_result"
    }
   ],
   "source": [
    "cat['ID'] = np.arange(nspec)\n",
    "cat['LOGMASS'] = np.array([11.0, 10.0]).astype('f4') * u.solMass\n",
    "cat['TAU'] = np.array([0.1, 0.1]).astype('f4') * u.Gyr\n",
    "cat['LOGZSOL'] = np.log10( [1.5, 0.5] ).astype('f4') # super-solar and sub-solar\n",
    "cat['ZRED'] = 1.5  # fixed redshift\n",
    "cat['ZFORM'] = 5.0 # fixed formation redshift\n",
    "cat['TAGE'] = (cosmo.age(cat['ZRED']) - cosmo.age(cat['ZFORM'])).astype('f4')\n",
    "cat"
   ]
  },
  {
   "cell_type": "code",
   "execution_count": 8,
   "metadata": {
    "collapsed": true
   },
   "outputs": [],
   "source": [
    "def logmass2mass(logmass=11.0, **extras):\n",
    "    return 10**logmass"
   ]
  },
  {
   "cell_type": "code",
   "execution_count": 9,
   "metadata": {
    "collapsed": true
   },
   "outputs": [],
   "source": [
    "def load_model(cat):\n",
    "    \"\"\"Load the model parameters. For more documentation see\n",
    "    http://dan.iel.fm/python-fsps/current/stellarpop_api/#api-reference\n",
    "\n",
    "    \"\"\"\n",
    "    from prospect.models import priors, sedmodel\n",
    "\n",
    "    model_params = []\n",
    "\n",
    "    ##################################################\n",
    "    # Fixed priors\n",
    "\n",
    "    # Galaxy redshift\n",
    "    model_params.append({\n",
    "        'name': 'zred',\n",
    "        'N': 1,\n",
    "        'isfree': False,\n",
    "        'init': cat['ZRED'],\n",
    "        'prior': None,       \n",
    "        })\n",
    "\n",
    "    model_params.append({ # current mass in stars, not integral of SFH\n",
    "        'name': 'mass_units',\n",
    "        'N': 1,\n",
    "        'isfree': False,\n",
    "        'init': 'mstar', # 'mformed'\n",
    "        'prior': None,       \n",
    "        })\n",
    "\n",
    "    # IMF\n",
    "    model_params.append({\n",
    "        'name': 'imf_type',\n",
    "        'N': 1,\n",
    "        'isfree': False,\n",
    "        'init':   0, # 0=Salpeter, 1=Chabrier, 2=Kroupa\n",
    "        'prior': None,       \n",
    "        })\n",
    "\n",
    "    # SFH parameterization (delayed-tau)\n",
    "    model_params.append({\n",
    "        'name': 'sfh',\n",
    "        'N': 1,\n",
    "        'isfree': False,\n",
    "        'init':   4, # 4 = delayed tau model\n",
    "        'prior': None,       \n",
    "        })\n",
    "\n",
    "    # Do not include dust emission\n",
    "    model_params.append({\n",
    "        'name': 'add_dust_emission',\n",
    "        'N': 1,\n",
    "        'isfree': False,\n",
    "        'init':   False, # do not include dust emission\n",
    "        'prior': None,       \n",
    "        })\n",
    "\n",
    "    # Prior(s) on dust content\n",
    "    model_params.append({\n",
    "        'name': 'dust2',\n",
    "        'N': 1,\n",
    "        'isfree': False,\n",
    "        'init': 0.0,\n",
    "        'prior': None,\n",
    "        })\n",
    "    \n",
    "    ##################################################\n",
    "    # Free priors / parameters\n",
    "\n",
    "    # Priors on stellar mass and stellar metallicity\n",
    "    model_params.append({\n",
    "        'name': 'logmass',\n",
    "        'N': 1,\n",
    "        'isfree': True,\n",
    "        'init': cat['LOGMASS'],\n",
    "        'prior': None,\n",
    "        })\n",
    "    \n",
    "    model_params.append({\n",
    "        'name': 'mass',\n",
    "        'N': 1,\n",
    "        'isfree': False,\n",
    "        'init': 10**cat['LOGMASS'],\n",
    "        'prior': None,\n",
    "        'depends_on': logmass2mass,\n",
    "        })\n",
    "\n",
    "    model_params.append({\n",
    "        'name': 'logzsol',\n",
    "        'N': 1,\n",
    "        'isfree': True,\n",
    "        'init': cat['LOGZSOL'],\n",
    "        'prior': None,\n",
    "        })\n",
    "\n",
    "    # Priors on tau and age\n",
    "    model_params.append({\n",
    "        'name': 'tau',\n",
    "        'N': 1,\n",
    "        'isfree': True,\n",
    "        'init': cat['TAU'],\n",
    "        'prior': None,\n",
    "        })\n",
    "\n",
    "    model_params.append( {\n",
    "        'name': 'tage',\n",
    "        'N': 1,\n",
    "        'isfree': True,\n",
    "        'init': cat['TAGE'],\n",
    "        'prior': None,\n",
    "        })\n",
    "\n",
    "    model = sedmodel.SedModel(model_params)\n",
    "    \n",
    "    return model"
   ]
  },
  {
   "cell_type": "markdown",
   "metadata": {},
   "source": [
    "### Build each model."
   ]
  },
  {
   "cell_type": "code",
   "execution_count": 10,
   "metadata": {},
   "outputs": [
    {
     "data": {
      "image/png": "[encoded data removed]",
      "text/plain": [
       "<matplotlib.figure.Figure at 0x1195e0a20>"
      ]
     },
     "metadata": {},
     "output_type": "display_data"
    },
    {
     "data": {
      "image/png": "[encoded data removed]",
      "text/plain": [
       "<matplotlib.figure.Figure at 0x10f3df7b8>"
      ]
     },
     "metadata": {},
     "output_type": "display_data"
    }
   ],
   "source": [
    "for ii in range(nspec):\n",
    "    model = load_model(cat[ii])    \n",
    "    \n",
    "    obswave = sps.csp.wavelengths * (1 + cat['ZRED'][ii]) \n",
    "    cat['WAVELENGTH'][ii] = obswave / 1e4 * u.micron \n",
    "    \n",
    "    obs = dict(\n",
    "        filters = None,\n",
    "        wavelength = obswave\n",
    "    )\n",
    "    model_flux, _, _ = model.mean_model(model.theta, obs, sps=sps)\n",
    "    cat['FLUX'][ii] = model_flux * 10**(0.4 * 16.4) * u.mJy # maggies --> mJy\n",
    "\n",
    "    if True:\n",
    "        fig, ax = plt.subplots()\n",
    "        ax.plot(cat['WAVELENGTH'][ii], cat['FLUX'][ii])\n",
    "        ax.set_xlim(0.3, 6.0)\n",
    "        ax.set_xlabel(r'Observed-frame Wavelength ($\\mu$m)')\n",
    "        ax.set_ylabel('Flux Density (mJy)')"
   ]
  },
  {
   "cell_type": "markdown",
   "metadata": {},
   "source": [
    "### Write out."
   ]
  },
  {
   "cell_type": "code",
   "execution_count": 11,
   "metadata": {},
   "outputs": [],
   "source": [
    "def write_bintable(filename, data, header=None, comments=None, units=None,\n",
    "                   extname=None, overwrite=True):\n",
    "    \"\"\"Utility function to write a FITS binary table complete with\n",
    "    comments and units in the FITS header too.  DATA can either be\n",
    "    dictionary, an Astropy Table, a numpy.recarray or a numpy.ndarray.\n",
    "\n",
    "    \"\"\"\n",
    "    # hdu = astropy.io.fits.BinTableHDU(outdata, header=header, name=extname)\n",
    "    hdu = fits.convenience.table_to_hdu(data)\n",
    "    if extname is not None:\n",
    "        hdu.header['EXTNAME'] = extname\n",
    "\n",
    "    if header is not None:\n",
    "        for key, value in header.items():\n",
    "            hdu.header[key] = value\n",
    "\n",
    "    #- Write the data and header\n",
    "    fits.writeto(filename, hdu.data, hdu.header, overwrite=overwrite, checksum=True)\n",
    "\n",
    "    #- Allow comments and units to be None\n",
    "    if comments is None:\n",
    "        comments = dict()\n",
    "    if units is None:\n",
    "        units = dict()\n",
    "\n",
    "    #- Reopen the file to add the comments and units\n",
    "    fx = fits.open(filename, mode='update')\n",
    "    hdu = fx[extname]\n",
    "    for i in range(1,999):\n",
    "        key = 'TTYPE'+str(i)\n",
    "        if key not in hdu.header:\n",
    "            break\n",
    "        else:\n",
    "            value = hdu.header[key]\n",
    "            if value in comments:\n",
    "                hdu.header[key] = (value, comments[value])\n",
    "            if value in units:\n",
    "                hdu.header['TUNIT'+str(i)] = (units[value], value+' units')\n",
    "\n",
    "    #- Write updated header and close file\n",
    "    fx.flush()\n",
    "    fx.close()"
   ]
  },
  {
   "cell_type": "code",
   "execution_count": 12,
   "metadata": {},
   "outputs": [
    {
     "name": "stdout",
     "output_type": "stream",
     "text": [
      "Writing /Users/ioannis/research/projects/jwstclusters/jwstclusters-etcspec.fits\n",
      "Writing /Users/ioannis/research/projects/jwstclusters/galaxyspec_00.txt\n",
      "Writing /Users/ioannis/research/projects/jwstclusters/galaxyspec_01.txt\n"
     ]
    }
   ],
   "source": [
    "catfile = os.path.join(jwstdir, 'jwstclusters-etcspec.fits')\n",
    "print('Writing {}'.format(catfile))\n",
    "cat.write(catfile, overwrite=True)\n",
    "\n",
    "for ii in range(nspec):\n",
    "    specfile = os.path.join(jwstdir, 'galaxyspec_{0:02d}.txt'.format(cat['ID'][ii]))\n",
    "    print('Writing {}'.format(specfile))\n",
    "    np.savetxt(specfile, np.vstack( (cat['WAVELENGTH'][ii].data, cat['FLUX'][ii]) ).T)\n",
    "    #Table(cat[ii]).write(specfile, include_names=['WAVELENGHT', 'FLUX'], \n",
    "    #                     overwrite=True, format='ascii')"
   ]
  },
  {
   "cell_type": "code",
   "execution_count": null,
   "metadata": {
    "collapsed": true
   },
   "outputs": [],
   "source": []
  }
 ],
 "metadata": {
  "kernelspec": {
   "display_name": "Python 3",
   "language": "python",
   "name": "python3"
  },
  "language_info": {
   "codemirror_mode": {
    "name": "ipython",
    "version": 3
   },
   "file_extension": ".py",
   "mimetype": "text/x-python",
   "name": "python",
   "nbconvert_exporter": "python",
   "pygments_lexer": "ipython3",
   "version": "3.6.2"
  }
 },
 "nbformat": 4,
 "nbformat_minor": 2
}
